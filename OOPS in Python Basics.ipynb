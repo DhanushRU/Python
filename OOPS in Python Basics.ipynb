{
 "cells": [
  {
   "cell_type": "code",
   "execution_count": 4,
   "id": "13d9e3fe",
   "metadata": {},
   "outputs": [
    {
     "name": "stdout",
     "output_type": "stream",
     "text": [
      "<class 'function'>\n",
      "hello world\n"
     ]
    }
   ],
   "source": [
    "#OOPS in Python\n",
    "\n",
    "def hello():\n",
    "    print('hello world')\n",
    "print(type(hello))\n",
    "hello()"
   ]
  },
  {
   "cell_type": "raw",
   "id": "3f9c906b",
   "metadata": {},
   "source": [
    "# The class can be defined as a collection of objects. It is a logical entity that has some specific attributes and methods. For example: if you have an employee class, then it should contain an attribute and method, i.e. an email id, name, age, salary, etc.\n"
   ]
  },
  {
   "cell_type": "code",
   "execution_count": 31,
   "id": "a0ebe6e8",
   "metadata": {},
   "outputs": [
    {
     "name": "stdout",
     "output_type": "stream",
     "text": [
      "bark Java\n",
      "Java Jumped\n",
      "c is very old to jump\n"
     ]
    }
   ],
   "source": [
    "\"\"\"The __init__ function is called every time an object is created from a class. \n",
    "The __init__ method lets the class initialize the object's attributes and serves no other purpose.\"\"\"\n",
    "\n",
    "class Dogs:\n",
    "    def __init__(self,Name,age):\n",
    "        self.name = Name #an attribute\n",
    "        self.age = age\n",
    "        #SELF represents the instance of class. \n",
    "        #This handy keyword allows you to access variables, attributes, and methods of a defined class in Python\n",
    "    def bark(self):\n",
    "        print('bark',self.name)\n",
    "    def jump(self):\n",
    "        if(self.age <10):\n",
    "            print(self.name,'Jumped')\n",
    "        else:\n",
    "            print(self.name ,'is very old to jump')\n",
    "dog1 = Dogs('Java',9)\n",
    "dog2 = Dogs('c',100)\n",
    "dog1.bark()\n",
    "dog1.jump()\n",
    "dog2.jump()"
   ]
  },
  {
   "cell_type": "code",
   "execution_count": 72,
   "id": "7f35292e",
   "metadata": {},
   "outputs": [
    {
     "name": "stdout",
     "output_type": "stream",
     "text": [
      "Adam added into Department HR\n",
      "9000 salary is not meeting criteria or, max size of department is  4\n",
      "Adam added into Department HR\n",
      "Gill added into Department HR\n",
      "11000.0\n"
     ]
    }
   ],
   "source": [
    "\"\"\"Creating Employee class which has attributes like salary and name and creating department class which has name,\n",
    "department size.\n",
    "\"\"\"\n",
    "\n",
    "class Employee:\n",
    "    def __init__(self,name,salary):\n",
    "        self.name = name\n",
    "        self.salary = salary\n",
    "    def get_salary(self):\n",
    "        return self.salary\n",
    "        \n",
    "e1 = Employee('Adam',10000)\n",
    "e2 = Employee('Gill',9000)\n",
    "e3 = Employee('Adam',11000)\n",
    "e4 = Employee('Gill',12000)\n",
    "#print(e1.get_salary(),e2.get_salary())\n",
    "\n",
    "# to print salary\n",
    "\n",
    "class Department:\n",
    "    def __init__(self,departmentname,departmentsize):\n",
    "        self.departmentname = departmentname\n",
    "        self.departmentsize = departmentsize\n",
    "        self.employees = [] #defining a empty list ( which means empty department with no employee)\n",
    "    def add_employee(self,employee):\n",
    "        \n",
    "        \"\"\"method to add employees into department , which takes an object as a parameter\n",
    "        when the object is passed using dot operator, we can access the attribute value of that object\"\"\"\n",
    "        \n",
    "        if employee.salary > 9000 and len(self.employees) < self.departmentsize:            \n",
    "            #here employee.salary will return salary of that particular object\n",
    "            self.employees.append(employee)\n",
    "            print(self.employees[len(self.employees)-1].name, 'added into Department',self.departmentname)            \n",
    "        else:\n",
    "            print(employee.salary,'salary is not meeting criteria or,' ,'max size of department is ',self.departmentsize)\n",
    "            \n",
    "    def average_salary(self):\n",
    "        avg = 0\n",
    "        for employee in self.employees:\n",
    "            #print(type(employee))\n",
    "            avg += employee.salary    \n",
    "        favg = avg/len(self.employees)\n",
    "        print(favg)\n",
    "        \n",
    "d1 = Department('HR',4)\n",
    "d1.add_employee(e1)\n",
    "d1.add_employee(e2)\n",
    "d1.add_employee(e3)\n",
    "d1.add_employee(e4)\n",
    "\n",
    "d1.average_salary()\n"
   ]
  },
  {
   "cell_type": "code",
   "execution_count": 87,
   "id": "7a5a228d",
   "metadata": {},
   "outputs": [
    {
     "name": "stdout",
     "output_type": "stream",
     "text": [
      "bark Red\n",
      "Dog 12\n",
      "Cat 9\n"
     ]
    }
   ],
   "source": [
    "#inheritance\n",
    "\n",
    "class Animal: #generic class\n",
    "    def __init__(self,name,age):\n",
    "        self.name = name\n",
    "        self.age = age\n",
    "    def show(self):\n",
    "        print(self.name,self.age)\n",
    "class Dog(Animal): #inherting methods and attributes from parent class\n",
    "    def __init__(self,name,age,color):\n",
    "        super().__init__(name,age) #using super keyword to fetch the attributes from parent class\n",
    "        self.color = color\n",
    "    def speak(self):\n",
    "        print('bark',self.color)\n",
    "class Cat(Animal):\n",
    "    def speak(self):\n",
    "        print('Meow')\n",
    "        \n",
    "\"\"\"Example: Managers and employees , both will have fields like name,email etc which\n",
    "can be placed in a generic class and specific class can be used for manager and employee roles and access \"\"\" \n",
    "d = Dog('Dog',12,'Red')\n",
    "d.speak()\n",
    "d.show()\n",
    "c = Cat('Cat',9)\n",
    "c.show()\n",
    "\n"
   ]
  },
  {
   "cell_type": "code",
   "execution_count": 105,
   "id": "96a92773",
   "metadata": {},
   "outputs": [
    {
     "name": "stdout",
     "output_type": "stream",
     "text": [
      "2\n"
     ]
    }
   ],
   "source": [
    "#class attributes and class methods\n",
    "\n",
    "class society:\n",
    "    max_size = 0 #class attribute\n",
    "    def __init__(self,name):\n",
    "        self.name = name\n",
    "        society.add_people()\n",
    "        #society.max_size+=1 use of class attribute\n",
    "        \n",
    "    #class methods\n",
    "    @classmethod #decorator\n",
    "    def number_of_people(cls):\n",
    "        return cls.max_size#they act on class instelf , they don't have any instance\n",
    "    \n",
    "    @classmethod\n",
    "    def add_people(cls):\n",
    "        cls.max_size +=1\n",
    "        #print(cls.max_size)\n",
    "        \n",
    "    \n",
    "s = society('JSW')\n",
    "#print(s.name,s.max_size) \n",
    "#s.max_size +=1\n",
    "s1 = society('Prestige')\n",
    "#s1.max_size -=1\n",
    "#print(society.add_people())\n",
    "print(society.number_of_people())\n",
    "\n"
   ]
  },
  {
   "cell_type": "code",
   "execution_count": 109,
   "id": "250ff6b9",
   "metadata": {},
   "outputs": [
    {
     "name": "stdout",
     "output_type": "stream",
     "text": [
      "Animals are good\n",
      "World has 12% of animals\n"
     ]
    }
   ],
   "source": [
    "#Static method\n",
    "\n",
    "class Animals:\n",
    "    @staticmethod #decorator\n",
    "    def about(): \n",
    "        #defining  a method whose functionality never changes ,\n",
    "        #which doesnot take any object instance and you also need not pass any class in definition\n",
    "        print( 'Animals are good')\n",
    "    @staticmethod\n",
    "    def population():\n",
    "        print( 'World has 12% of animals')\n",
    "    \n",
    "Animals.about()\n",
    "Animals.population()\n"
   ]
  },
  {
   "cell_type": "code",
   "execution_count": null,
   "id": "4435b62c",
   "metadata": {},
   "outputs": [],
   "source": []
  }
 ],
 "metadata": {
  "kernelspec": {
   "display_name": "Python 3 (ipykernel)",
   "language": "python",
   "name": "python3"
  },
  "language_info": {
   "codemirror_mode": {
    "name": "ipython",
    "version": 3
   },
   "file_extension": ".py",
   "mimetype": "text/x-python",
   "name": "python",
   "nbconvert_exporter": "python",
   "pygments_lexer": "ipython3",
   "version": "3.10.9"
  }
 },
 "nbformat": 4,
 "nbformat_minor": 5
}
